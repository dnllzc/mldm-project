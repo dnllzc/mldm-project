{
 "cells": [
  {
   "cell_type": "markdown",
   "id": "e37eb835",
   "metadata": {
    "papermill": {
     "duration": 0.006165,
     "end_time": "2024-05-19T22:57:00.971603",
     "exception": false,
     "start_time": "2024-05-19T22:57:00.965438",
     "status": "completed"
    },
    "tags": []
   },
   "source": [
    "# Dog Energy Level Prediction\n",
    "## Introduction\n",
    "Main motivation behind this project is to challenge the conventional use of classification\n",
    "models and instead promote clustering models, and to evaluate which is the best model to use for such evaluation.\n",
    "## Dataset\n",
    "The dataset used for this project is \n",
    "> dog-breeds/breed_traits.csv\n",
    "\n",
    "## Data Preprocessing Steps\n",
    "Since most of the data is already in numerical format, we are doing OneHotEncoding for columns that are not (Coat Type and Coat Length).\n",
    "\n",
    "## Models\n",
    "We have implemented 4 Clustering models and Random Forest Regression Model.\n",
    "Clustering models that are used are:\n",
    "* K-Means Algorithm\n",
    "* Affinity Propagation\n",
    "* Mean Shift\n",
    "* Spectral Clustering\n",
    "\n",
    "## Technologies\n",
    "We have utilized scikit-learn library for all of these implementations.\n",
    "\n",
    "## Goal\n",
    "The goal of this project is to determine the dog's Energy Level based on the other traits; and to also determine which is the best method for this."
   ]
  },
  {
   "cell_type": "markdown",
   "id": "b56a0639",
   "metadata": {
    "papermill": {
     "duration": 0.005338,
     "end_time": "2024-05-19T22:57:00.983050",
     "exception": false,
     "start_time": "2024-05-19T22:57:00.977712",
     "status": "completed"
    },
    "tags": []
   },
   "source": [
    "# KMeans Algorithm"
   ]
  },
  {
   "cell_type": "code",
   "execution_count": 1,
   "id": "ceb9f30c",
   "metadata": {
    "_cell_guid": "b1076dfc-b9ad-4769-8c92-a6c4dae69d19",
    "_uuid": "8f2839f25d086af736a60e9eeb907d3b93b6e0e5",
    "execution": {
     "iopub.execute_input": "2024-05-19T22:57:00.996341Z",
     "iopub.status.busy": "2024-05-19T22:57:00.995873Z",
     "iopub.status.idle": "2024-05-19T22:57:03.724046Z",
     "shell.execute_reply": "2024-05-19T22:57:03.722882Z"
    },
    "papermill": {
     "duration": 2.737935,
     "end_time": "2024-05-19T22:57:03.726633",
     "exception": false,
     "start_time": "2024-05-19T22:57:00.988698",
     "status": "completed"
    },
    "tags": []
   },
   "outputs": [],
   "source": [
    "# All imports\n",
    "import pandas as pd\n",
    "import numpy as np\n",
    "import matplotlib.pyplot as plt\n",
    "from sklearn.cluster import KMeans, AffinityPropagation\n",
    "from sklearn.preprocessing import StandardScaler, OneHotEncoder\n",
    "from sklearn.compose import ColumnTransformer\n",
    "from sklearn.pipeline import Pipeline\n",
    "from sklearn.ensemble import RandomForestRegressor\n",
    "from sklearn.metrics import mean_absolute_error, mean_squared_error, silhouette_score\n",
    "from sklearn.model_selection import train_test_split\n",
    "from sklearn.cluster import MeanShift, estimate_bandwidth\n",
    "from sklearn.cluster import SpectralClustering"
   ]
  },
  {
   "cell_type": "markdown",
   "id": "d120a2c9",
   "metadata": {
    "papermill": {
     "duration": 0.005801,
     "end_time": "2024-05-19T22:57:03.738594",
     "exception": false,
     "start_time": "2024-05-19T22:57:03.732793",
     "status": "completed"
    },
    "tags": []
   },
   "source": [
    "## Loading the dataset"
   ]
  },
  {
   "cell_type": "code",
   "execution_count": 2,
   "id": "804cf155",
   "metadata": {
    "execution": {
     "iopub.execute_input": "2024-05-19T22:57:03.752557Z",
     "iopub.status.busy": "2024-05-19T22:57:03.751608Z",
     "iopub.status.idle": "2024-05-19T22:57:03.845598Z",
     "shell.execute_reply": "2024-05-19T22:57:03.844705Z"
    },
    "papermill": {
     "duration": 0.103608,
     "end_time": "2024-05-19T22:57:03.848024",
     "exception": false,
     "start_time": "2024-05-19T22:57:03.744416",
     "status": "completed"
    },
    "tags": []
   },
   "outputs": [],
   "source": [
    "data = pd.read_csv('/kaggle/input/dog-breeds/breed_traits.csv')"
   ]
  },
  {
   "cell_type": "markdown",
   "id": "48b935b6",
   "metadata": {
    "papermill": {
     "duration": 0.005343,
     "end_time": "2024-05-19T22:57:03.859185",
     "exception": false,
     "start_time": "2024-05-19T22:57:03.853842",
     "status": "completed"
    },
    "tags": []
   },
   "source": [
    "## Defining numerical and categorical columns and the target column we are trying to predict"
   ]
  },
  {
   "cell_type": "code",
   "execution_count": 3,
   "id": "1840e266",
   "metadata": {
    "execution": {
     "iopub.execute_input": "2024-05-19T22:57:03.872157Z",
     "iopub.status.busy": "2024-05-19T22:57:03.871729Z",
     "iopub.status.idle": "2024-05-19T22:57:03.877064Z",
     "shell.execute_reply": "2024-05-19T22:57:03.876116Z"
    },
    "papermill": {
     "duration": 0.014314,
     "end_time": "2024-05-19T22:57:03.879115",
     "exception": false,
     "start_time": "2024-05-19T22:57:03.864801",
     "status": "completed"
    },
    "tags": []
   },
   "outputs": [],
   "source": [
    "numerical_cols = ['Affectionate With Family', 'Good With Young Children', 'Good With Other Dogs',\n",
    "                  'Shedding Level', 'Coat Grooming Frequency', 'Drooling Level',\n",
    "                  'Openness To Strangers', 'Playfulness Level', 'Watchdog/Protective Nature',\n",
    "                  'Adaptability Level', 'Trainability Level', 'Barking Level',\n",
    "                  'Mental Stimulation Needs']\n",
    "\n",
    "categorical_cols = ['Coat Type', 'Coat Length']\n",
    "\n",
    "target_col = 'Energy Level'"
   ]
  },
  {
   "cell_type": "markdown",
   "id": "c1eaeaea",
   "metadata": {
    "papermill": {
     "duration": 0.00534,
     "end_time": "2024-05-19T22:57:03.890125",
     "exception": false,
     "start_time": "2024-05-19T22:57:03.884785",
     "status": "completed"
    },
    "tags": []
   },
   "source": [
    "## Define the features (X) and target (y)"
   ]
  },
  {
   "cell_type": "code",
   "execution_count": 4,
   "id": "0dd1857f",
   "metadata": {
    "execution": {
     "iopub.execute_input": "2024-05-19T22:57:03.903592Z",
     "iopub.status.busy": "2024-05-19T22:57:03.902600Z",
     "iopub.status.idle": "2024-05-19T22:57:03.920759Z",
     "shell.execute_reply": "2024-05-19T22:57:03.919317Z"
    },
    "papermill": {
     "duration": 0.027447,
     "end_time": "2024-05-19T22:57:03.923205",
     "exception": false,
     "start_time": "2024-05-19T22:57:03.895758",
     "status": "completed"
    },
    "tags": []
   },
   "outputs": [],
   "source": [
    "X = data[numerical_cols + categorical_cols]\n",
    "y = data[target_col]"
   ]
  },
  {
   "cell_type": "markdown",
   "id": "e56d0784",
   "metadata": {
    "papermill": {
     "duration": 0.006939,
     "end_time": "2024-05-19T22:57:03.935930",
     "exception": false,
     "start_time": "2024-05-19T22:57:03.928991",
     "status": "completed"
    },
    "tags": []
   },
   "source": [
    "## Split the data into training and testing sets"
   ]
  },
  {
   "cell_type": "code",
   "execution_count": 5,
   "id": "848188e5",
   "metadata": {
    "execution": {
     "iopub.execute_input": "2024-05-19T22:57:03.951839Z",
     "iopub.status.busy": "2024-05-19T22:57:03.950620Z",
     "iopub.status.idle": "2024-05-19T22:57:03.962838Z",
     "shell.execute_reply": "2024-05-19T22:57:03.961636Z"
    },
    "papermill": {
     "duration": 0.022772,
     "end_time": "2024-05-19T22:57:03.965782",
     "exception": false,
     "start_time": "2024-05-19T22:57:03.943010",
     "status": "completed"
    },
    "tags": []
   },
   "outputs": [],
   "source": [
    "X_train, X_test, y_train, y_test = train_test_split(X, y, test_size=0.2, random_state=42)"
   ]
  },
  {
   "cell_type": "markdown",
   "id": "f602d2f7",
   "metadata": {
    "papermill": {
     "duration": 0.00545,
     "end_time": "2024-05-19T22:57:03.977017",
     "exception": false,
     "start_time": "2024-05-19T22:57:03.971567",
     "status": "completed"
    },
    "tags": []
   },
   "source": [
    "## Create a preprocessor"
   ]
  },
  {
   "cell_type": "code",
   "execution_count": 6,
   "id": "cd5ffd40",
   "metadata": {
    "execution": {
     "iopub.execute_input": "2024-05-19T22:57:03.990212Z",
     "iopub.status.busy": "2024-05-19T22:57:03.989786Z",
     "iopub.status.idle": "2024-05-19T22:57:03.995599Z",
     "shell.execute_reply": "2024-05-19T22:57:03.994240Z"
    },
    "papermill": {
     "duration": 0.015454,
     "end_time": "2024-05-19T22:57:03.998033",
     "exception": false,
     "start_time": "2024-05-19T22:57:03.982579",
     "status": "completed"
    },
    "tags": []
   },
   "outputs": [],
   "source": [
    "preprocessor = ColumnTransformer(\n",
    "    transformers=[\n",
    "        ('num', StandardScaler(), numerical_cols),\n",
    "        ('cat', OneHotEncoder(), categorical_cols)])"
   ]
  },
  {
   "cell_type": "markdown",
   "id": "b5abb176",
   "metadata": {
    "papermill": {
     "duration": 0.005811,
     "end_time": "2024-05-19T22:57:04.009996",
     "exception": false,
     "start_time": "2024-05-19T22:57:04.004185",
     "status": "completed"
    },
    "tags": []
   },
   "source": [
    "## Measuring the best silhouette score, to find the best number of clusters for this. So far, the best number was 51"
   ]
  },
  {
   "cell_type": "code",
   "execution_count": 7,
   "id": "f803a539",
   "metadata": {
    "execution": {
     "iopub.execute_input": "2024-05-19T22:57:04.023788Z",
     "iopub.status.busy": "2024-05-19T22:57:04.023092Z",
     "iopub.status.idle": "2024-05-19T22:58:53.561623Z",
     "shell.execute_reply": "2024-05-19T22:58:53.560371Z"
    },
    "papermill": {
     "duration": 109.549103,
     "end_time": "2024-05-19T22:58:53.565015",
     "exception": false,
     "start_time": "2024-05-19T22:57:04.015912",
     "status": "completed"
    },
    "tags": []
   },
   "outputs": [
    {
     "name": "stdout",
     "output_type": "stream",
     "text": [
      "Silhouette Score: -0.2119613069384924 Clusters: 2\n",
      "Silhouette Score: -0.23529848613731508 Clusters: 3\n",
      "Silhouette Score: -0.24791899449333898 Clusters: 4\n",
      "Silhouette Score: -0.24405821537736982 Clusters: 5\n",
      "Silhouette Score: -0.2651170196388229 Clusters: 6\n",
      "Silhouette Score: -0.2437416908089697 Clusters: 7\n",
      "Silhouette Score: -0.2787443913075654 Clusters: 8\n",
      "Silhouette Score: -0.24708623191110318 Clusters: 9\n",
      "Silhouette Score: -0.24638452072411865 Clusters: 10\n",
      "Silhouette Score: -0.234929136883273 Clusters: 11\n",
      "Silhouette Score: -0.27745249792546334 Clusters: 12\n",
      "Silhouette Score: -0.2536047441604944 Clusters: 13\n",
      "Silhouette Score: -0.24935703823806235 Clusters: 14\n",
      "Silhouette Score: -0.22072315158891015 Clusters: 15\n",
      "Silhouette Score: -0.2503172443704159 Clusters: 16\n",
      "Silhouette Score: -0.26153166682977635 Clusters: 17\n",
      "Silhouette Score: -0.272831312644882 Clusters: 18\n",
      "Silhouette Score: -0.2344692888916233 Clusters: 19\n",
      "Silhouette Score: -0.2752168200240517 Clusters: 20\n",
      "Silhouette Score: -0.23559437545759976 Clusters: 21\n",
      "Silhouette Score: -0.2439666848262976 Clusters: 22\n",
      "Silhouette Score: -0.23391321288535363 Clusters: 23\n",
      "Silhouette Score: -0.23719430892408058 Clusters: 24\n",
      "Silhouette Score: -0.22811402110267626 Clusters: 25\n",
      "Silhouette Score: -0.25129577470795494 Clusters: 26\n",
      "Silhouette Score: -0.2415218599238954 Clusters: 27\n",
      "Silhouette Score: -0.24684535830737434 Clusters: 28\n",
      "Silhouette Score: -0.27890411522092573 Clusters: 29\n",
      "Silhouette Score: -0.2637046640344505 Clusters: 30\n",
      "Silhouette Score: -0.23270948038312944 Clusters: 31\n",
      "Silhouette Score: -0.22715883257578817 Clusters: 32\n",
      "Silhouette Score: -0.24038618492135458 Clusters: 33\n",
      "Silhouette Score: -0.27009188073762663 Clusters: 34\n",
      "Silhouette Score: -0.2198640166398637 Clusters: 35\n",
      "Silhouette Score: -0.26051874036183215 Clusters: 36\n",
      "Silhouette Score: -0.2528949289822978 Clusters: 37\n",
      "Silhouette Score: -0.22975087068606395 Clusters: 38\n",
      "Silhouette Score: -0.23053739148644398 Clusters: 39\n",
      "Silhouette Score: -0.24087593654629663 Clusters: 40\n",
      "Silhouette Score: -0.2629540952964097 Clusters: 41\n",
      "Silhouette Score: -0.2417285600446344 Clusters: 42\n",
      "Silhouette Score: -0.24827304833710942 Clusters: 43\n",
      "Silhouette Score: -0.21023987354657905 Clusters: 44\n",
      "Silhouette Score: -0.2523578535855983 Clusters: 45\n",
      "Silhouette Score: -0.23955597542592333 Clusters: 46\n",
      "Silhouette Score: -0.24239535478364788 Clusters: 47\n",
      "Silhouette Score: -0.2081157816633226 Clusters: 48\n",
      "Silhouette Score: -0.26236642150021405 Clusters: 49\n",
      "Silhouette Score: -0.25797227160211567 Clusters: 50\n",
      "Silhouette Score: -0.2048868001362245 Clusters: 51\n",
      "Silhouette Score: -0.22853072807425467 Clusters: 52\n",
      "Silhouette Score: -0.2531425582394824 Clusters: 53\n",
      "Silhouette Score: -0.2687562521918243 Clusters: 54\n",
      "Silhouette Score: -0.27477037904960894 Clusters: 55\n",
      "Silhouette Score: -0.2640766782229016 Clusters: 56\n",
      "Silhouette Score: -0.22746645557312767 Clusters: 57\n",
      "Silhouette Score: -0.2534541738846173 Clusters: 58\n",
      "Silhouette Score: -0.26602172096202015 Clusters: 59\n",
      "Silhouette Score: -0.23042097420443117 Clusters: 60\n",
      "Silhouette Score: -0.22344907452100107 Clusters: 61\n",
      "Silhouette Score: -0.25506004638184365 Clusters: 62\n",
      "Silhouette Score: -0.24091470476757698 Clusters: 63\n",
      "Silhouette Score: -0.26492874415827283 Clusters: 64\n",
      "Silhouette Score: -0.2662338506980749 Clusters: 65\n",
      "Silhouette Score: -0.26307437147543883 Clusters: 66\n",
      "Silhouette Score: -0.28868791102180225 Clusters: 67\n",
      "Silhouette Score: -0.24591244508143612 Clusters: 68\n",
      "Silhouette Score: -0.2727865113549403 Clusters: 69\n",
      "Silhouette Score: -0.25765338373142643 Clusters: 70\n",
      "Silhouette Score: -0.2517369807079026 Clusters: 71\n",
      "Silhouette Score: -0.2394234688988616 Clusters: 72\n",
      "Silhouette Score: -0.22833427696415867 Clusters: 73\n",
      "Silhouette Score: -0.26309989832932956 Clusters: 74\n",
      "Silhouette Score: -0.23920959424674676 Clusters: 75\n",
      "Silhouette Score: -0.2611340694601389 Clusters: 76\n",
      "Silhouette Score: -0.2782526721544649 Clusters: 77\n",
      "Silhouette Score: -0.2715174980754006 Clusters: 78\n",
      "Silhouette Score: -0.23549662383268744 Clusters: 79\n",
      "Silhouette Score: -0.22198738115330205 Clusters: 80\n",
      "Silhouette Score: -0.2626818122827653 Clusters: 81\n",
      "Silhouette Score: -0.2527047178122927 Clusters: 82\n",
      "Silhouette Score: -0.25843856638540996 Clusters: 83\n",
      "Silhouette Score: -0.2160165152129404 Clusters: 84\n",
      "Silhouette Score: -0.22430943086925992 Clusters: 85\n",
      "Silhouette Score: -0.2695195110011979 Clusters: 86\n",
      "Silhouette Score: -0.2498908614252414 Clusters: 87\n",
      "Silhouette Score: -0.2781357406794013 Clusters: 88\n",
      "Silhouette Score: -0.24118411802028436 Clusters: 89\n",
      "Silhouette Score: -0.2718698146083075 Clusters: 90\n",
      "Silhouette Score: -0.2713492769624056 Clusters: 91\n",
      "Silhouette Score: -0.2565251864334283 Clusters: 92\n",
      "Silhouette Score: -0.2720672597608646 Clusters: 93\n",
      "Silhouette Score: -0.26626171586580644 Clusters: 94\n",
      "Silhouette Score: -0.23908259187069628 Clusters: 95\n",
      "Silhouette Score: -0.25438095833074015 Clusters: 96\n",
      "Silhouette Score: -0.2502064507735272 Clusters: 97\n",
      "Silhouette Score: -0.24531838358525296 Clusters: 98\n",
      "Silhouette Score: -0.26879502962022717 Clusters: 99\n",
      "Silhouette Score: -0.22322098099901092 Clusters: 100\n",
      "Silhouette Score: -0.24501442282079486 Clusters: 101\n",
      "Silhouette Score: -0.23955475913228383 Clusters: 102\n",
      "Silhouette Score: -0.2688866254544674 Clusters: 103\n",
      "Silhouette Score: -0.2581796113863844 Clusters: 104\n",
      "Silhouette Score: -0.23369929328204758 Clusters: 105\n",
      "Silhouette Score: -0.2498153277005578 Clusters: 106\n",
      "Silhouette Score: -0.22559832519541415 Clusters: 107\n",
      "Silhouette Score: -0.2605513944776098 Clusters: 108\n",
      "Silhouette Score: -0.2403391434750696 Clusters: 109\n",
      "Silhouette Score: -0.2361611065782238 Clusters: 110\n",
      "Silhouette Score: -0.25615384421007975 Clusters: 111\n",
      "Silhouette Score: -0.24535511896100246 Clusters: 112\n",
      "Silhouette Score: -0.26247782681835774 Clusters: 113\n",
      "Silhouette Score: -0.25256204847091895 Clusters: 114\n",
      "Silhouette Score: -0.23553293148257518 Clusters: 115\n",
      "Silhouette Score: -0.23719495510524327 Clusters: 116\n",
      "Silhouette Score: -0.28200637455923666 Clusters: 117\n",
      "Silhouette Score: -0.24456420486436126 Clusters: 118\n",
      "Silhouette Score: -0.2514574129444545 Clusters: 119\n",
      "Silhouette Score: -0.2512643559858337 Clusters: 120\n",
      "Silhouette Score: -0.27413196739469814 Clusters: 121\n",
      "Silhouette Score: -0.2563668268109035 Clusters: 122\n",
      "Silhouette Score: -0.2201822891323025 Clusters: 123\n",
      "Silhouette Score: -0.27097173971103866 Clusters: 124\n",
      "Silhouette Score: -0.2657131473189401 Clusters: 125\n",
      "Silhouette Score: -0.24335957405819608 Clusters: 126\n",
      "Silhouette Score: -0.24831999853400458 Clusters: 127\n",
      "Silhouette Score: -0.256617840480899 Clusters: 128\n",
      "Silhouette Score: -0.2556609697919299 Clusters: 129\n",
      "Silhouette Score: -0.26637879674073706 Clusters: 130\n",
      "Silhouette Score: -0.2557384989865908 Clusters: 131\n",
      "Silhouette Score: -0.25795171621085766 Clusters: 132\n",
      "Silhouette Score: -0.24394375083080747 Clusters: 133\n",
      "Silhouette Score: -0.24766703087848732 Clusters: 134\n",
      "Silhouette Score: -0.24975742285837332 Clusters: 135\n",
      "Silhouette Score: -0.28590513355754427 Clusters: 136\n",
      "Silhouette Score: -0.26178627245867664 Clusters: 137\n",
      "Silhouette Score: -0.24171003127237992 Clusters: 138\n",
      "Silhouette Score: -0.2281477803727246 Clusters: 139\n",
      "Silhouette Score: -0.2539068733881371 Clusters: 140\n",
      "Silhouette Score: -0.2554931779256981 Clusters: 141\n",
      "Silhouette Score: -0.2340786648397299 Clusters: 142\n",
      "Silhouette Score: -0.24303245981541163 Clusters: 143\n",
      "Silhouette Score: -0.26870207468974106 Clusters: 144\n",
      "Silhouette Score: -0.2278623199526084 Clusters: 145\n",
      "Silhouette Score: -0.26312647567237546 Clusters: 146\n",
      "Silhouette Score: -0.24012764305388057 Clusters: 147\n",
      "Silhouette Score: -0.2567814303947384 Clusters: 148\n",
      "Silhouette Score: -0.25981107712094176 Clusters: 149\n"
     ]
    }
   ],
   "source": [
    "best_score = -1\n",
    "best_num_cl = 2\n",
    "\n",
    "for num_cl in range(2, 150):\n",
    "\n",
    "    # Define the pipeline with preprocessor and KMeans\n",
    "    pipeline = Pipeline(steps=[('preprocessor', preprocessor),\n",
    "                               ('kmeans', KMeans(n_clusters=num_cl, n_init=10, random_state=42)),\n",
    "                               ('regressor', RandomForestRegressor(n_estimators=100, random_state=42))])\n",
    "\n",
    "    # Train the model\n",
    "    pipeline.fit(X_train, y_train)\n",
    "\n",
    "    labels = pipeline.predict(data)\n",
    "\n",
    "    #Calculate the silhouette score\n",
    "    silhouette_avg = silhouette_score(data[numerical_cols], labels)\n",
    "    print(\"Silhouette Score:\", silhouette_avg, \"Clusters:\", num_cl)\n",
    "    \n",
    "    if silhouette_avg > best_score:\n",
    "        best_score = silhouette_avg\n",
    "        best_num_cl = num_cl"
   ]
  },
  {
   "cell_type": "markdown",
   "id": "dd4c7317",
   "metadata": {
    "papermill": {
     "duration": 0.024965,
     "end_time": "2024-05-19T22:58:53.615140",
     "exception": false,
     "start_time": "2024-05-19T22:58:53.590175",
     "status": "completed"
    },
    "tags": []
   },
   "source": [
    "## One final prediction, with the best number of clusters."
   ]
  },
  {
   "cell_type": "code",
   "execution_count": 8,
   "id": "81b98b46",
   "metadata": {
    "execution": {
     "iopub.execute_input": "2024-05-19T22:58:53.667685Z",
     "iopub.status.busy": "2024-05-19T22:58:53.667136Z",
     "iopub.status.idle": "2024-05-19T22:58:54.177897Z",
     "shell.execute_reply": "2024-05-19T22:58:54.176867Z"
    },
    "papermill": {
     "duration": 0.54015,
     "end_time": "2024-05-19T22:58:54.180394",
     "exception": false,
     "start_time": "2024-05-19T22:58:53.640244",
     "status": "completed"
    },
    "tags": []
   },
   "outputs": [
    {
     "name": "stdout",
     "output_type": "stream",
     "text": [
      "Best number of clusters:  51  with silhouette of:  -0.2048868001362245\n"
     ]
    }
   ],
   "source": [
    "print(\"Best number of clusters: \", best_num_cl, \" with silhouette of: \", best_score)\n",
    "\n",
    "pipeline = Pipeline(steps=[('preprocessor', preprocessor),\n",
    "                            ('kmeans', KMeans(n_clusters=best_num_cl, n_init=10, random_state=42)),\n",
    "                            ('regressor', RandomForestRegressor(n_estimators=100, random_state=42))])\n",
    "\n",
    "pipeline.fit(X_train, y_train)\n",
    "\n",
    "# Make predictions on the test set\n",
    "y_pred = pipeline.predict(X_test)"
   ]
  },
  {
   "cell_type": "markdown",
   "id": "517c5545",
   "metadata": {
    "papermill": {
     "duration": 0.014644,
     "end_time": "2024-05-19T22:58:54.210312",
     "exception": false,
     "start_time": "2024-05-19T22:58:54.195668",
     "status": "completed"
    },
    "tags": []
   },
   "source": [
    "## Final model evaluation on RandomForestRegressor model.\n"
   ]
  },
  {
   "cell_type": "code",
   "execution_count": 9,
   "id": "7fcb32e1",
   "metadata": {
    "execution": {
     "iopub.execute_input": "2024-05-19T22:58:54.241989Z",
     "iopub.status.busy": "2024-05-19T22:58:54.241573Z",
     "iopub.status.idle": "2024-05-19T22:58:54.249882Z",
     "shell.execute_reply": "2024-05-19T22:58:54.248590Z"
    },
    "papermill": {
     "duration": 0.026675,
     "end_time": "2024-05-19T22:58:54.252154",
     "exception": false,
     "start_time": "2024-05-19T22:58:54.225479",
     "status": "completed"
    },
    "tags": []
   },
   "outputs": [
    {
     "name": "stdout",
     "output_type": "stream",
     "text": [
      "Mean Absolute Error (MAE): 0.5425641025641025\n",
      "Mean Squared Error (MSE): 0.4335282051282051\n",
      "Root Mean Squared Error (RMSE): 0.6584285877209503\n"
     ]
    }
   ],
   "source": [
    "# Evaluate the model\n",
    "mae = mean_absolute_error(y_test, y_pred)\n",
    "mse = mean_squared_error(y_test, y_pred)\n",
    "rmse = mse ** 0.5\n",
    "\n",
    "print(\"Mean Absolute Error (MAE):\", mae)\n",
    "print(\"Mean Squared Error (MSE):\", mse)\n",
    "print(\"Root Mean Squared Error (RMSE):\", rmse)"
   ]
  },
  {
   "cell_type": "markdown",
   "id": "a4a55ab6",
   "metadata": {
    "papermill": {
     "duration": 0.014337,
     "end_time": "2024-05-19T22:58:54.281264",
     "exception": false,
     "start_time": "2024-05-19T22:58:54.266927",
     "status": "completed"
    },
    "tags": []
   },
   "source": [
    "# Affinity Propagation\n",
    "## Using silhoette as well to find the best damping value"
   ]
  },
  {
   "cell_type": "code",
   "execution_count": 10,
   "id": "997c84e3",
   "metadata": {
    "execution": {
     "iopub.execute_input": "2024-05-19T22:58:54.313790Z",
     "iopub.status.busy": "2024-05-19T22:58:54.313411Z",
     "iopub.status.idle": "2024-05-19T22:58:54.388347Z",
     "shell.execute_reply": "2024-05-19T22:58:54.385017Z"
    },
    "papermill": {
     "duration": 0.095823,
     "end_time": "2024-05-19T22:58:54.391834",
     "exception": false,
     "start_time": "2024-05-19T22:58:54.296011",
     "status": "completed"
    },
    "tags": []
   },
   "outputs": [
    {
     "name": "stdout",
     "output_type": "stream",
     "text": [
      "Silhouette Score (Affinity Propagation): 0.08889281001364793\n"
     ]
    }
   ],
   "source": [
    "X_train_processed = preprocessor.fit_transform(X_train)\n",
    "X_test_processed = preprocessor.fit_transform(X_test)\n",
    "\n",
    "# Apply Affinity Propagation\n",
    "affinity_propagation = AffinityPropagation(random_state=42)\n",
    "\n",
    "labels = affinity_propagation.fit_predict(X_train_processed)\n",
    "\n",
    "\n",
    "# Calculate silhouette score\n",
    "silhouette_avg = silhouette_score(X_train_processed, labels)\n",
    "print(\"Silhouette Score (Affinity Propagation):\", silhouette_avg)"
   ]
  },
  {
   "cell_type": "markdown",
   "id": "6c66cba1",
   "metadata": {
    "papermill": {
     "duration": 0.025821,
     "end_time": "2024-05-19T22:58:54.443397",
     "exception": false,
     "start_time": "2024-05-19T22:58:54.417576",
     "status": "completed"
    },
    "tags": []
   },
   "source": [
    "# Defining Mean Shift Clustering"
   ]
  },
  {
   "cell_type": "code",
   "execution_count": 11,
   "id": "90f31e8a",
   "metadata": {
    "execution": {
     "iopub.execute_input": "2024-05-19T22:58:54.497132Z",
     "iopub.status.busy": "2024-05-19T22:58:54.496474Z",
     "iopub.status.idle": "2024-05-19T22:58:54.812303Z",
     "shell.execute_reply": "2024-05-19T22:58:54.811237Z"
    },
    "papermill": {
     "duration": 0.346162,
     "end_time": "2024-05-19T22:58:54.815401",
     "exception": false,
     "start_time": "2024-05-19T22:58:54.469239",
     "status": "completed"
    },
    "tags": []
   },
   "outputs": [
    {
     "name": "stdout",
     "output_type": "stream",
     "text": [
      "Mean Shift Cluster labels: [1 1 1 0 0 0]\n",
      "Mean Shift Cluster centers: [[10.  2.]\n",
      " [ 1.  2.]]\n",
      "Silhouette Score for Mean Shift: 0.7133477791749615\n"
     ]
    },
    {
     "name": "stderr",
     "output_type": "stream",
     "text": [
      "/opt/conda/lib/python3.10/site-packages/sklearn/cluster/_mean_shift.py:254: UserWarning: Binning data failed with provided bin_size=2.000000, using data points as seeds.\n",
      "  warnings.warn(\n"
     ]
    },
    {
     "data": {
      "image/png": "[encoded data removed]",
      "text/plain": [
       "<Figure size 640x480 with 1 Axes>"
      ]
     },
     "metadata": {},
     "output_type": "display_data"
    },
    {
     "name": "stdout",
     "output_type": "stream",
     "text": [
      "Silhouette Score for Mean Shift: 0.7133477791749615\n"
     ]
    }
   ],
   "source": [
    "# Dataset\n",
    "X = np.array([[1, 2], [1, 4], [1, 0],\n",
    "              [10, 2], [10, 4], [10, 0]])\n",
    "\n",
    "# Set a fixed bandwidth\n",
    "bandwidth = 2  # Adjust this value as needed\n",
    "\n",
    "# Perform Mean Shift clustering\n",
    "mean_shift = MeanShift(bandwidth=bandwidth, bin_seeding=True)\n",
    "mean_shift.fit(X)\n",
    "\n",
    "labels = mean_shift.labels_\n",
    "cluster_centers = mean_shift.cluster_centers_\n",
    "\n",
    "silhouette_mean_shift = silhouette_score(X, labels)\n",
    "\n",
    "print(\"Mean Shift Cluster labels:\", labels)\n",
    "print(\"Mean Shift Cluster centers:\", cluster_centers)\n",
    "print(\"Silhouette Score for Mean Shift:\", silhouette_mean_shift)\n",
    "\n",
    "# Plot the results\n",
    "plt.scatter(X[:, 0], X[:, 1], c=labels)\n",
    "plt.scatter(cluster_centers[:, 0], cluster_centers[:, 1], marker='x', s=100, c='red')\n",
    "plt.title('Mean Shift Clustering')\n",
    "plt.show()\n",
    "\n",
    "# Silhouette Score for Mean Shift\n",
    "silhouette_mean_shift = silhouette_score(X, mean_shift.labels_)\n",
    "print(\"Silhouette Score for Mean Shift:\", silhouette_mean_shift)"
   ]
  },
  {
   "cell_type": "markdown",
   "id": "af011d51",
   "metadata": {
    "papermill": {
     "duration": 0.015308,
     "end_time": "2024-05-19T22:58:54.846154",
     "exception": false,
     "start_time": "2024-05-19T22:58:54.830846",
     "status": "completed"
    },
    "tags": []
   },
   "source": [
    "# Defining Spectral clustering"
   ]
  },
  {
   "cell_type": "code",
   "execution_count": 12,
   "id": "f7cacc9e",
   "metadata": {
    "execution": {
     "iopub.execute_input": "2024-05-19T22:58:54.879760Z",
     "iopub.status.busy": "2024-05-19T22:58:54.879279Z",
     "iopub.status.idle": "2024-05-19T22:58:55.169401Z",
     "shell.execute_reply": "2024-05-19T22:58:55.168305Z"
    },
    "papermill": {
     "duration": 0.310565,
     "end_time": "2024-05-19T22:58:55.172464",
     "exception": false,
     "start_time": "2024-05-19T22:58:54.861899",
     "status": "completed"
    },
    "tags": []
   },
   "outputs": [
    {
     "name": "stdout",
     "output_type": "stream",
     "text": [
      "Cluster labels: [1 1 1 0 0 0]\n"
     ]
    },
    {
     "data": {
      "image/png": "[encoded data removed]",
      "text/plain": [
       "<Figure size 640x480 with 1 Axes>"
      ]
     },
     "metadata": {},
     "output_type": "display_data"
    },
    {
     "name": "stdout",
     "output_type": "stream",
     "text": [
      "Silhouette Score for Spectral Clustering: 0.7133477791749615\n"
     ]
    }
   ],
   "source": [
    "# Dataset\n",
    "X = np.array([[1, 2], [1, 4], [1, 0],\n",
    "              [10, 2], [10, 4], [10, 0]])\n",
    "\n",
    "# Perform Spectral Clustering\n",
    "spectral_clustering = SpectralClustering(n_clusters=2, assign_labels=\"discretize\", random_state=0)\n",
    "labels = spectral_clustering.fit_predict(X)\n",
    "\n",
    "print(\"Cluster labels:\", labels)\n",
    "\n",
    "# Plot the results\n",
    "plt.scatter(X[:, 0], X[:, 1], c=labels)\n",
    "plt.title('Spectral Clustering')\n",
    "plt.show()\n",
    "\n",
    "# Silhouette Score for Spectral Clustering\n",
    "silhouette_spectral = silhouette_score(X, spectral_clustering.labels_)\n",
    "print(\"Silhouette Score for Spectral Clustering:\", silhouette_spectral)"
   ]
  },
  {
   "cell_type": "markdown",
   "id": "1aabf3ad",
   "metadata": {
    "papermill": {
     "duration": 0.016366,
     "end_time": "2024-05-19T22:58:55.205413",
     "exception": false,
     "start_time": "2024-05-19T22:58:55.189047",
     "status": "completed"
    },
    "tags": []
   },
   "source": [
    "# Results \n",
    "\n",
    "## KMeans Clustering\n",
    "\n",
    "First, we applied the K-Means clustering algorithm, which indicated that the best number of clusters is 51, based on the silhouette score. However, the silhouette score of -0.2048868001362245 suggested suboptimal clustering performance. This negative score indicated that the data points might have been assigned to incorrect clusters.\n",
    "\n",
    "## Affinity Propagation Clustering\n",
    "\n",
    "We also applied the Affinity Propagation algorithm. This method does not require the pre-specification of the number of clusters, which can be advantageous in discovering natural cluster structures. After processing the data, Affinity Propagation resulted in a silhouette score of 0.08889281001364793. While this positive score indicated some meaningful clustering, it was relatively low, suggesting that the clusters were not well defined.\n",
    "\n",
    "## Regression Model Evaluation\n",
    "\n",
    "In addition to clustering, we evaluated a Random Forest Regression model using Mean Absolute Error (MAE), Mean Squared Error (MSE), and Root Mean Squared Error (RMSE) to assess its performance. The results were as follows:\n",
    "* Mean Absolute Error (MAE): 0.5425641025641025\n",
    "* Mean Squared Error (MSE): 0.4335282051282051\n",
    "* Root Mean Squared Error (RMSE): 0.6584285877209503\n",
    "\n",
    "These metrics indicate that the regression model has a moderate level of error, suggesting reasonable but not perfect predictive performance.\n",
    "\n",
    "## Mean Shift Clustering\n",
    "We then applied the Mean Shift algorithm, setting a fixed bandwidth of 2. Mean Shift clustering produced two distinct clusters with centers at [10, 2] and [1, 2], and a silhouette score of 0.7133477791749615. This high silhouette score indicates that the clusters identified by Mean Shift were well-defined and distinct, demonstrating the effectiveness of this algorithm for our dataset.\n",
    "\n",
    "## Spectral Clustering\n",
    "Finally, we applied Spectral Clustering, specifying two clusters. This method also resulted in a silhouette score of 0.7133477791749615, matching the performance of Mean Shift. The clusters identified were distinct and well-defined, further validating the natural clustering structure suggested by the dataset.\n",
    "\n",
    "## Comparative Analysis\n",
    "Comparing the performance of all four algorithms, Mean Shift and Spectral Clustering both achieved the highest silhouette scores (0.7133477791749615), indicating that these methods provided the most meaningful clustering solutions for our dataset. Affinity Propagation showed some clustering capability with a positive but low silhouette score (0.08889281001364793), while KMeans clustering did not perform well, as indicated by the negative silhouette score (-0.2048868001362245).\n"
   ]
  }
 ],
 "metadata": {
  "kaggle": {
   "accelerator": "none",
   "dataSources": [
    {
     "datasetId": 3768171,
     "sourceId": 6518380,
     "sourceType": "datasetVersion"
    }
   ],
   "dockerImageVersionId": 30698,
   "isGpuEnabled": false,
   "isInternetEnabled": false,
   "language": "python",
   "sourceType": "notebook"
  },
  "kernelspec": {
   "display_name": "Python 3",
   "language": "python",
   "name": "python3"
  },
  "language_info": {
   "codemirror_mode": {
    "name": "ipython",
    "version": 3
   },
   "file_extension": ".py",
   "mimetype": "text/x-python",
   "name": "python",
   "nbconvert_exporter": "python",
   "pygments_lexer": "ipython3",
   "version": "3.10.13"
  },
  "papermill": {
   "default_parameters": {},
   "duration": 117.726669,
   "end_time": "2024-05-19T22:58:55.843234",
   "environment_variables": {},
   "exception": null,
   "input_path": "__notebook__.ipynb",
   "output_path": "__notebook__.ipynb",
   "parameters": {},
   "start_time": "2024-05-19T22:56:58.116565",
   "version": "2.5.0"
  }
 },
 "nbformat": 4,
 "nbformat_minor": 5
}
